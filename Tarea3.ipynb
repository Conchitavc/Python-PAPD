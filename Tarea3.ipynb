{
 "cells": [
  {
   "cell_type": "markdown",
   "metadata": {},
   "source": [
    "## Ciencia de Datos en Python\n",
    "### Hoja de Trabajo # 3 - Diccionarios, sets y programacion orientada a objetos.\n",
    "\n",
    "> *Maria Conchita Vasquez*  \n",
    "> *Carnet 20062228 seccion V*\n",
    "* * *"
   ]
  },
  {
   "cell_type": "code",
   "execution_count": 97,
   "metadata": {},
   "outputs": [],
   "source": [
    "class regresion():\n",
    "    def __init__(self,arreglo1,arreglo2):\n",
    "        n1=len(arreglo1)\n",
    "        n2=len(arreglo2)\n",
    "        termino1=0\n",
    "        termino2=0\n",
    "        termino3=0\n",
    "        termino4=0\n",
    "        varianzax=0\n",
    "        varianzay=0\n",
    "        beta0=0\n",
    "        contador=0\n",
    "        x=0\n",
    "        y=0\n",
    "        difx=0\n",
    "        if(n1==n2):\n",
    "            for contador in range(n1):\n",
    "                x=(arreglo1[contador])+x\n",
    "                y=arreglo2[contador]+y\n",
    "                termino1=(arreglo1[contador]*arreglo2[contador])+termino1\n",
    "                termino3=(arreglo1[contador]*arreglo1[contador])+termino3  \n",
    "            termino1=n1*termino1\n",
    "            termino2=x*y\n",
    "            termino3=n1*termino3\n",
    "            termino4=x*x\n",
    "            promediox=x/n1\n",
    "            promedioy=y/n1\n",
    "            self.beta0=(termino1-termino2)/(termino3-termino4)\n",
    "            self.beta1=(promedioy-(self.beta0*promediox))\n",
    "            self.x=arreglo1\n",
    "            self.y=arreglo2\n",
    "            #print('beta0: {}, beta1 {} '.format(self.beta0,self.beta1))\n",
    "            contador=0\n",
    "            for contador in range(n1):\n",
    "                difx=(arreglo1[contador]-promediox)*(arreglo2[contador]-promedioy)+difx\n",
    "                varianzax=((arreglo1[contador]-promediox)*(arreglo1[contador]-promediox)+varianzax)\n",
    "                varianzay=((arreglo2[contador]-promedioy)*(arreglo2[contador]-promedioy)+varianzay)\n",
    "            varianzax=varianzax/n1\n",
    "            varianzay=varianzay/n1\n",
    "            #print('varianzax: {}, varianzay {} '.format(varianzax,varianzay))\n",
    "            covarianza=difx/n1\n",
    "            self.rr2=(covarianza*covarianza)/(varianzay*varianzax)\n",
    "            self.rr=self.rr2**0.5\n",
    "            \n",
    "            \n",
    "    def r (self):\n",
    "        return self.rr\n",
    "    \n",
    "    def r2 (self):\n",
    "        return self.rr2\n",
    "    \n",
    "    def predict (self, val):\n",
    "        return self.beta1+self.beta0*val\n",
    "\n",
    "    def getAllParam (self):\n",
    "        return {'b0' : self.beta0, 'b1' : self.beta1, 'r2':self.rr2, 'r':self.rr}\n",
    "\n",
    "    def predictN (self, val):\n",
    "        lista_nueva=[]\n",
    "        nv1=len(val)\n",
    "        for contador in range(nv1):\n",
    "                x=(val[contador])\n",
    "                lista_nueva.append(self.predict(x))\n",
    "        return lista_nueva\n",
    "    @classmethod\n",
    "    def from_file(cls,path):\n",
    "        archivo= open(path)\n",
    "        Arreglox=[]\n",
    "        Arregloy=[]\n",
    "        lineas=archivo.readlines()\n",
    "        cont=0\n",
    "        for linea in lineas:\n",
    "            if(cont==0):\n",
    "                cont=cont+1\n",
    "            elif(cont>0):\n",
    "                Arreglo=str.rstrip(linea).split(\",\")\n",
    "                Arregloy.append(float(Arreglo[0]))\n",
    "                Arreglox.append(float(Arreglo[1]))\n",
    "                cont=cont+1\n",
    "        #print(Arreglox)\n",
    "        #print(Arregloy)\n",
    "        return cls(Arreglox,Arregloy)\n"
   ]
  },
  {
   "cell_type": "code",
   "execution_count": 98,
   "metadata": {},
   "outputs": [
    {
     "name": "stdout",
     "output_type": "stream",
     "text": [
      "[230.1, 44.5, 17.2, 151.5, 180.8, 8.7, 57.5, 120.2, 8.6, 199.8, 66.1, 214.7, 23.8, 97.5, 204.1, 195.4, 67.8, 281.4, 69.2, 147.3, 218.4, 237.4, 13.2, 228.3, 62.3, 262.9, 142.9, 240.1, 248.8, 70.6, 292.9, 112.9, 97.2, 265.6, 95.7, 290.7, 266.9, 74.7, 43.1, 228.0, 202.5, 177.0, 293.6, 206.9, 25.1, 175.1, 89.7, 239.9, 227.2, 66.9, 199.8, 100.4, 216.4, 182.6, 262.7, 198.9, 7.3, 136.2, 210.8, 210.7, 53.5, 261.3, 239.3, 102.7, 131.1, 69.0, 31.5, 139.3, 237.4, 216.8, 199.1, 109.8, 26.8, 129.4, 213.4, 16.9, 27.5, 120.5, 5.4, 116.0, 76.4, 239.8, 75.3, 68.4, 213.5, 193.2, 76.3, 110.7, 88.3, 109.8, 134.3, 28.6, 217.7, 250.9, 107.4, 163.3, 197.6, 184.9, 289.7, 135.2, 222.4, 296.4, 280.2, 187.9, 238.2, 137.9, 25.0, 90.4, 13.1, 255.4, 225.8, 241.7, 175.7, 209.6, 78.2, 75.1, 139.2, 76.4, 125.7, 19.4, 141.3, 18.8, 224.0, 123.1, 229.5, 87.2, 7.8, 80.2, 220.3, 59.6, 0.7, 265.2, 8.4, 219.8, 36.9, 48.3, 25.6, 273.7, 43.0, 184.9, 73.4, 193.7, 220.5, 104.6, 96.2, 140.3, 240.1, 243.2, 38.0, 44.7, 280.7, 121.0, 197.6, 171.3, 187.8, 4.1, 93.9, 149.8, 11.7, 131.7, 172.5, 85.7, 188.4, 163.5, 117.2, 234.5, 17.9, 206.8, 215.4, 284.3, 50.0, 164.5, 19.6, 168.4, 222.4, 276.9, 248.4, 170.2, 276.7, 165.6, 156.6, 218.5, 56.2, 287.6, 253.8, 205.0, 139.5, 191.1, 286.0, 18.7, 39.5, 75.5, 17.2, 166.8, 149.7, 38.2, 94.2, 177.0, 283.6, 232.1]\n",
      "[22.1, 10.4, 9.3, 18.5, 12.9, 7.2, 11.8, 13.2, 4.8, 10.6, 8.6, 17.4, 9.2, 9.7, 19.0, 22.4, 12.5, 24.4, 11.3, 14.6, 18.0, 12.5, 5.6, 15.5, 9.7, 12.0, 15.0, 15.9, 18.9, 10.5, 21.4, 11.9, 9.6, 17.4, 9.5, 12.8, 25.4, 14.7, 10.1, 21.5, 16.6, 17.1, 20.7, 12.9, 8.5, 14.9, 10.6, 23.2, 14.8, 9.7, 11.4, 10.7, 22.6, 21.2, 20.2, 23.7, 5.5, 13.2, 23.8, 18.4, 8.1, 24.2, 15.7, 14.0, 18.0, 9.3, 9.5, 13.4, 18.9, 22.3, 18.3, 12.4, 8.8, 11.0, 17.0, 8.7, 6.9, 14.2, 5.3, 11.0, 11.8, 12.3, 11.3, 13.6, 21.7, 15.2, 12.0, 16.0, 12.9, 16.7, 11.2, 7.3, 19.4, 22.2, 11.5, 16.9, 11.7, 15.5, 25.4, 17.2, 11.7, 23.8, 14.8, 14.7, 20.7, 19.2, 7.2, 8.7, 5.3, 19.8, 13.4, 21.8, 14.1, 15.9, 14.6, 12.6, 12.2, 9.4, 15.9, 6.6, 15.5, 7.0, 11.6, 15.2, 19.7, 10.6, 6.6, 8.8, 24.7, 9.7, 1.6, 12.7, 5.7, 19.6, 10.8, 11.6, 9.5, 20.8, 9.6, 20.7, 10.9, 19.2, 20.1, 10.4, 11.4, 10.3, 13.2, 25.4, 10.9, 10.1, 16.1, 11.6, 16.6, 19.0, 15.6, 3.2, 15.3, 10.1, 7.3, 12.9, 14.4, 13.3, 14.9, 18.0, 11.9, 11.9, 8.0, 12.2, 17.1, 15.0, 8.4, 14.5, 7.6, 11.7, 11.5, 27.0, 20.2, 11.7, 11.8, 12.6, 10.5, 12.2, 8.7, 26.2, 17.6, 22.6, 10.3, 17.3, 15.9, 6.7, 10.8, 9.9, 5.9, 19.6, 17.3, 7.6, 9.7, 12.8, 25.5, 13.4]\n"
     ]
    },
    {
     "data": {
      "text/plain": [
       "{'b0': 0.04753664043301965,\n",
       " 'b1': 7.032593549127711,\n",
       " 'r2': 0.6118750508500704,\n",
       " 'r': 0.782224424861606}"
      ]
     },
     "execution_count": 98,
     "metadata": {},
     "output_type": "execute_result"
    }
   ],
   "source": [
    "prueba = regresion([2,4,6,8,10],[100,180,190,200,280])\n",
    "prueba.r()\n",
    "prueba.predict(4)\n",
    "prueba.predictN([4,7])\n",
    "archivo = regresion.from_file(\"Advertising.csv\")\n",
    "archivo.getAllParam()\n",
    "\n"
   ]
  }
 ],
 "metadata": {
  "kernelspec": {
   "display_name": "Python 3",
   "language": "python",
   "name": "python3"
  },
  "language_info": {
   "codemirror_mode": {
    "name": "ipython",
    "version": 3
   },
   "file_extension": ".py",
   "mimetype": "text/x-python",
   "name": "python",
   "nbconvert_exporter": "python",
   "pygments_lexer": "ipython3",
   "version": "3.8.5"
  }
 },
 "nbformat": 4,
 "nbformat_minor": 4
}
