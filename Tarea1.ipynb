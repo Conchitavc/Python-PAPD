{
 "cells": [
  {
   "cell_type": "markdown",
   "metadata": {},
   "source": [
    "# Laboratorio 1\n",
    "\n",
    "## Jupyter Notebooks, Markdown y Git\n",
    "\n",
    "> *Maria Conchita Vasquez* \\\n",
    "> *Carnet 20062228 seccion V*\n",
    "\n",
    "En este documento detallo como fue mi experiencia con GIT y utilizando Notbooks\n",
    "\n",
    "1. Conclusiones\n",
    "  * GIT:\n",
    "  Luego de estar investigando un poco y viendo la documentacion compartida en el curso he descubierto que GIT es una gran herramienta colaborativa y de versionamientos, ya que nos permite ir teniendo versiones de nuestros desarrollo, asi como poder realizar merge de codigos en casos de proyectos colaborativos, tambien es muy util para poder trabajar en paralelo bugs y nuevas funcionalidades.\n",
    "  \n",
    "        En git se utiliza una arquitectura de Arboles y blobs, los cuales podriamos comparar con archivos que se almacenan en algún directorio o carpeta, donde Las carpetas también pueden contener más directorios. \n",
    "\n",
    "  |  | Estructura | |\n",
    "|:-----|:----:|----:|\n",
    "| | |Blob1|\n",
    "| |/| |\n",
    "|Arbol | | |\n",
    "| |\\\\| |\n",
    "| | |Blob2|\n",
    "\n",
    "Siempre hay un árbol en la raíz, apuntando al árbol que contiene cosas.\n",
    "  * NootBooks:\n",
    "  Es una herramienta muy versatil ya que nos permite generar codigo por bloques lo que facilita mucho los debbug en codigos grandes y hacer pruebas rapidas en lo que decidimos y comprobamos que lo que estamos aplicando es el resultado deseado adicional nos permite utilizar Markdown lo que hace que la documentacion sea mucho mas sencilla y visual al contar con formatos, y textos enriquecidos.\n",
    "  \n",
    "2. Comentarios:\\\n",
    "   Al inicio me senti un poco perdida ya que no entendia bien como utilizar ambas herramientas, luego de investigar por un buen rato me di cuenta que son muy poderosas y utiles, considero que seguire utilizandolas para proyectos mas adelante.\n",
    "    \n",
    "3. Ejemplos:\\\n",
    "    lo primero es crear nuestra cuenta de GIT, luego la enlazamos a la carpeta que creamos en nuestra computadora de la siguiente forma: \n",
    "[![Img Alt\n",
    "Text](https://github.com/Conchitavc/Python-PAPD/blob/main/enlazar.jpg?raw=true)]\n",
    "\n",
    "\n",
    "\n",
    "\n",
    "\n",
    "\n"
   ]
  },
  {
   "cell_type": "code",
   "execution_count": 4,
   "metadata": {},
   "outputs": [
    {
     "ename": "SyntaxError",
     "evalue": "invalid syntax (<ipython-input-4-001e9303815d>, line 2)",
     "output_type": "error",
     "traceback": [
      "\u001b[1;36m  File \u001b[1;32m\"<ipython-input-4-001e9303815d>\"\u001b[1;36m, line \u001b[1;32m2\u001b[0m\n\u001b[1;33m    al momento de postear esta tarea en GitHub).\u001b[0m\n\u001b[1;37m       ^\u001b[0m\n\u001b[1;31mSyntaxError\u001b[0m\u001b[1;31m:\u001b[0m invalid syntax\n"
     ]
    }
   ],
   "source": [
    ", conclusiones, comentarios y ejemplos propios(usados\n",
    "al momento de postear esta tarea en GitHub).\n",
    "Encabezados de diferentes tama˜nos,\n",
    "Texto enriquecido (negrita, cursiva, subrayado, links),\n",
    "Listas numeradas y no numeradas,\n",
    "Tablas,\n",
    "Im´agenes,\n",
    "Y cualquier otro elemento que considere necesario."
   ]
  },
  {
   "cell_type": "code",
   "execution_count": null,
   "metadata": {},
   "outputs": [],
   "source": []
  }
 ],
 "metadata": {
  "kernelspec": {
   "display_name": "Python 3",
   "language": "python",
   "name": "python3"
  },
  "language_info": {
   "codemirror_mode": {
    "name": "ipython",
    "version": 3
   },
   "file_extension": ".py",
   "mimetype": "text/x-python",
   "name": "python",
   "nbconvert_exporter": "python",
   "pygments_lexer": "ipython3",
   "version": "3.8.5"
  }
 },
 "nbformat": 4,
 "nbformat_minor": 4
}
