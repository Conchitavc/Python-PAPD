{
 "cells": [
  {
   "cell_type": "markdown",
   "metadata": {},
   "source": [
    "## Ciencia de Datos en Python\n",
    "### Hoja de Trabajo # 2 - Sintaxis, Listas y Tuplas\n",
    "\n",
    "> *Maria Conchita Vasquez*  \n",
    "> *Carnet 20062228 seccion V*\n",
    "* * *\n",
    "\n",
    "#### *Parte #1 - (Programaci´on y Sintaxis):*\n",
    "\n",
    "1. **Haga un programa en Python que reciba de parametro un numero de segundos y que despliegue en pantalla, las horas, minutos y segundos que representan.**  \n",
    "Por ejemplo:\n",
    "Si el numero de segundos recibidos fuera: 2743 entonces su programa deber´ıa desplegar:\n",
    "Horas: 0, Minutos: 45 , Segundos: 43\n",
    "Si el numero de segundos recibidos fuera 5871: Horas: 1, Minutos: 37 , Segundos: 51\n",
    "Recuerde manejar excepciones y errores que considere necesarios.\n"
   ]
  },
  {
   "cell_type": "code",
   "execution_count": 1,
   "metadata": {},
   "outputs": [
    {
     "name": "stdin",
     "output_type": "stream",
     "text": [
      "Ingresa los segundos:  5871\n"
     ]
    },
    {
     "name": "stdout",
     "output_type": "stream",
     "text": [
      "Horas: 1, Minutos 37, segundos 51\n"
     ]
    }
   ],
   "source": [
    "try:\n",
    "    segundos_i= input(\"Ingresa los segundos: \" )\n",
    "    segundos= int(segundos_i)\n",
    "    horas = segundos//3600\n",
    "    minutos = (segundos//60)-horas*60\n",
    "    segundos = segundos-((minutos*60)+(horas*3600))\n",
    "    print('Horas: {}, Minutos {}, segundos {}'.format(horas,minutos,segundos))\n",
    "except ValueError:\n",
    "    print(\"Error valor invalido: \", segundos_i)"
   ]
  },
  {
   "cell_type": "markdown",
   "metadata": {},
   "source": [
    "2. **Haga una funcion en Python que dado un numero entre 1 y 20. Y un caracter cualquiera\n",
    "despliegue cuatro patrones triangulares.**"
   ]
  },
  {
   "cell_type": "code",
   "execution_count": 25,
   "metadata": {},
   "outputs": [
    {
     "name": "stdin",
     "output_type": "stream",
     "text": [
      "Ingresa el numero:  4\n",
      "Ingresa el caracter:  *\n"
     ]
    },
    {
     "name": "stdout",
     "output_type": "stream",
     "text": [
      "*        ****      ****      *\n",
      "**        ***      ***      **\n",
      "***        **      **      ***\n",
      "****        *      *      ****\n"
     ]
    }
   ],
   "source": [
    "try:\n",
    "    numero_i= input(\"Ingresa el numero: \" )\n",
    "    numero=int(numero_i)\n",
    "    caracter_i=input(\"Ingresa el caracter: \")\n",
    "    longitud=len(caracter_i)\n",
    "    i=1\n",
    "    i2=numero\n",
    "    espacio=' '\n",
    "    espacio1=''\n",
    "    espacio2=''\n",
    "    espacios=espacio*numero\n",
    "    if(numero>1 and numero<20 and longitud==1):\n",
    "        while(i<=numero):\n",
    "            primer_triangulo=caracter_i*i\n",
    "            segundo_triangulo=caracter_i*i2\n",
    "            espacio1=espacio*i\n",
    "            espacio2=espacio*i2\n",
    "            print(primer_triangulo,espacio1,espacio2,segundo_triangulo, espacios, segundo_triangulo, espacios, primer_triangulo)\n",
    "            i=i+1\n",
    "            i2=i2-1\n",
    "    elif(longitud!=1):\n",
    "        print(\"debe ingresar solo 1 caracter.\")\n",
    "    elif(numero<1 or numero>20):\n",
    "        print(\"numero invalido: ingrese del 1 al 20.\")\n",
    "except:\n",
    "    print(\"Error\")"
   ]
  },
  {
   "cell_type": "markdown",
   "metadata": {},
   "source": [
    "**3. Haga un programa en Python que la fecha de nacimiento de una persona (puede ingresar por\n",
    "separado cada valor, es decir pedir primero dia, luego mes y luego anio), despliegue la edad\n",
    "de la persona en anios, meses y dias. Su resultado puede ser aproximado.**"
   ]
  },
  {
   "cell_type": "code",
   "execution_count": 44,
   "metadata": {},
   "outputs": [
    {
     "name": "stdin",
     "output_type": "stream",
     "text": [
      "Ingresa su anio de nacimiento:  2021\n",
      "Ingresa su mes de nacimiento:  06\n",
      "Ingresa su dia de nacimiento:  10\n"
     ]
    },
    {
     "name": "stdout",
     "output_type": "stream",
     "text": [
      "su edad es -1 años 8 meses y 0 dias\n"
     ]
    }
   ],
   "source": [
    "try:\n",
    "    import math\n",
    "    from datetime import date\n",
    "    hoy = date.today()\n",
    "    anio_i= input(\"Ingresa su anio de nacimiento: \" )\n",
    "    anio= int(anio_i)\n",
    "    mes_i= input(\"Ingresa su mes de nacimiento: \" )\n",
    "    mes= int(mes_i)\n",
    "    dia_i= input(\"Ingresa su dia de nacimiento: \" )\n",
    "    dia= int(dia_i)\n",
    "    fec_ingresada = date(anio, mes, dia)\n",
    "    dias = (hoy - fec_ingresada).days\n",
    "    anios=(dias/365)\n",
    "    edad_a = dias//365\n",
    "    edad_m = (dias-edad_a*365)/31\n",
    "    edad_m = math.trunc(edad_m)\n",
    "    edad_d = (dias-((edad_a*365)+(edad_m*31)))\n",
    "    if(dias<0):\n",
    "        edad_d = 0\n",
    "    else:\n",
    "        edad_d = edad_d\n",
    "    print('su edad es {} años {} meses y {} dias'.format(edad_a,edad_m,edad_d))\n",
    "except ValueError as e:\n",
    "    print(\"Error valor invalido: \", e)"
   ]
  },
  {
   "cell_type": "markdown",
   "metadata": {},
   "source": [
    "#### Parte #2 - (Estructuras de Datos):\n",
    "\n",
    "1. **Escriba una funcion en Python que dada una tupla de elementos (numeros o letras) esta se\n",
    "convierta a un string. Tomar nota del siguiente ejemplo:**\n",
    "    * Si la entrada fuera: (10, 20, 40, 5, 70)\n",
    "    * La salida deberia ser: 102040570\n"
   ]
  },
  {
   "cell_type": "code",
   "execution_count": 53,
   "metadata": {},
   "outputs": [
    {
     "data": {
      "text/plain": [
       "'102040570'"
      ]
     },
     "execution_count": 53,
     "metadata": {},
     "output_type": "execute_result"
    }
   ],
   "source": [
    "def concatenar(tupla):\n",
    "    string=''\n",
    "    for i in tupla:\n",
    "        string=string+str(i)\n",
    "    return string\n",
    "concatenar((10, 20, 40, 5, 70))"
   ]
  },
  {
   "cell_type": "markdown",
   "metadata": {},
   "source": [
    "2, **Cree un programa en Python que dada una lista de tuplas, elimine las tuplas que estan vacıas.\n",
    "Tomar nota del siguiente ejemplo:**  \n",
    "    *Si la lista fuera: [(), (), (’X’,), (’a’, ’b’), (’a’, ’b’, ’c’), (’d’)]\n",
    "    *El resultado deber´ıa ser: [(’X’), (’a’, ’b’), (’a’, ’b’, ’c’), ’d’]"
   ]
  },
  {
   "cell_type": "code",
   "execution_count": 157,
   "metadata": {},
   "outputs": [
    {
     "data": {
      "text/plain": [
       "[('X',), ('a', 'b'), ('a', 'b', 'c'), 'd']"
      ]
     },
     "execution_count": 157,
     "metadata": {},
     "output_type": "execute_result"
    }
   ],
   "source": [
    "def limpia_vacios(lista):\n",
    "    lista_nueva=[]\n",
    "    for val in lista:\n",
    "        if(len(val)!=0):\n",
    "            lista_nueva.append(val)\n",
    "    return lista_nueva\n",
    "limpia_vacios([(), (), ('X',), ('a', 'b'),(), ('a', 'b', 'c'), ('d'),()])"
   ]
  },
  {
   "cell_type": "markdown",
   "metadata": {},
   "source": [
    "3. **Cree una funcion en Python que dada una tupla de tuplas con numeros, produzca una tupla\n",
    "con el promedio de cada tupla individual. Tomar nota del siguiente ejemplo:**  \n",
    "    *Si la tupla de entrada fuera: ((10, 10, 10, 12), (30, 45, 56, 45), (81, 80, 39, 32))  \n",
    "    *El resultado deberia ser: (10.5, 44, 58)"
   ]
  },
  {
   "cell_type": "code",
   "execution_count": 160,
   "metadata": {},
   "outputs": [
    {
     "data": {
      "text/plain": [
       "[10.5, 44, 58]"
      ]
     },
     "execution_count": 160,
     "metadata": {},
     "output_type": "execute_result"
    }
   ],
   "source": [
    "import statistics as stats\n",
    "def promedios(lista):\n",
    "    lista_nueva=[]\n",
    "    for val in lista:\n",
    "             lista_nueva.append(stats.mean(val))\n",
    "    return lista_nueva\n",
    "promedios([(10, 10, 10, 12), (30, 45, 56, 45), (81, 80, 39, 32)])"
   ]
  }
 ],
 "metadata": {
  "kernelspec": {
   "display_name": "Python 3",
   "language": "python",
   "name": "python3"
  },
  "language_info": {
   "codemirror_mode": {
    "name": "ipython",
    "version": 3
   },
   "file_extension": ".py",
   "mimetype": "text/x-python",
   "name": "python",
   "nbconvert_exporter": "python",
   "pygments_lexer": "ipython3",
   "version": "3.8.5"
  }
 },
 "nbformat": 4,
 "nbformat_minor": 4
}
